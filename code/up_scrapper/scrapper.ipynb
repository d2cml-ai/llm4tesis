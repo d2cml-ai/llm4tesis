{
 "cells": [
  {
   "attachments": {},
   "cell_type": "markdown",
   "metadata": {},
   "source": [
    "## Import modules"
   ]
  },
  {
   "cell_type": "code",
   "execution_count": 1,
   "metadata": {},
   "outputs": [],
   "source": [
    "import requests as r\n",
    "from bs4 import BeautifulSoup as bs\n",
    "import numpy as np, pandas as pd\n",
    "import warnings \n",
    "import re\n",
    "import tqdm\n",
    "import numpy as np\n",
    "\n",
    "warnings.filterwarnings('ignore')\n",
    "\n",
    "url_up = 'https://repositorio.up.edu.pe/'\n",
    "url = 'https://repositorio.up.edu.pe/handle/11354/6'"
   ]
  },
  {
   "attachments": {},
   "cell_type": "markdown",
   "metadata": {},
   "source": []
  },
  {
   "cell_type": "code",
   "execution_count": 2,
   "metadata": {},
   "outputs": [],
   "source": [
    "def get_html(url, element = 'div', css = 'artifact-description'):\n",
    "\tresponse = r.get(url, verify=False)\n",
    "\thtml = bs(response.content, 'html.parser')\n",
    "\ts_items = html.find_all(element, class_ = css)\n",
    "\n",
    "\treturn s_items\n",
    "items = get_html(url)"
   ]
  },
  {
   "attachments": {},
   "cell_type": "markdown",
   "metadata": {},
   "source": [
    "### Get all subitems"
   ]
  },
  {
   "attachments": {},
   "cell_type": "markdown",
   "metadata": {},
   "source": [
    "`get_subitems` retrieves all the reference links. For example, in theses, it obtains the links for \"bachelor's,\" \"literature,\" and \"master's.\" This process is repeated until there are no more sub-items within the links."
   ]
  },
  {
   "cell_type": "code",
   "execution_count": 3,
   "metadata": {},
   "outputs": [
    {
     "name": "stderr",
     "output_type": "stream",
     "text": [
      "100%|██████████| 23/23 [00:00<00:00, 22811.30it/s]\n"
     ]
    },
    {
     "data": {
      "text/html": [
       "<div>\n",
       "<style scoped>\n",
       "    .dataframe tbody tr th:only-of-type {\n",
       "        vertical-align: middle;\n",
       "    }\n",
       "\n",
       "    .dataframe tbody tr th {\n",
       "        vertical-align: top;\n",
       "    }\n",
       "\n",
       "    .dataframe thead th {\n",
       "        text-align: right;\n",
       "    }\n",
       "</style>\n",
       "<table border=\"1\" class=\"dataframe\">\n",
       "  <thead>\n",
       "    <tr style=\"text-align: right;\">\n",
       "      <th></th>\n",
       "      <th>dir_name</th>\n",
       "      <th>num_thesis</th>\n",
       "      <th>links</th>\n",
       "      <th>master_dir</th>\n",
       "    </tr>\n",
       "  </thead>\n",
       "  <tbody>\n",
       "    <tr>\n",
       "      <th>0</th>\n",
       "      <td>Bachillerato</td>\n",
       "      <td>2</td>\n",
       "      <td>https://repositorio.up.edu.pe//handle/11354/2921</td>\n",
       "      <td>UP</td>\n",
       "    </tr>\n",
       "    <tr>\n",
       "      <th>1</th>\n",
       "      <td>Licenciatura</td>\n",
       "      <td>272</td>\n",
       "      <td>https://repositorio.up.edu.pe//handle/11354/20</td>\n",
       "      <td>UP</td>\n",
       "    </tr>\n",
       "    <tr>\n",
       "      <th>2</th>\n",
       "      <td>Maestría</td>\n",
       "      <td>1637</td>\n",
       "      <td>https://repositorio.up.edu.pe//handle/11354/9</td>\n",
       "      <td>UP</td>\n",
       "    </tr>\n",
       "  </tbody>\n",
       "</table>\n",
       "</div>"
      ],
      "text/plain": [
       "       dir_name  num_thesis                                             links  \\\n",
       "0  Bachillerato           2  https://repositorio.up.edu.pe//handle/11354/2921   \n",
       "1  Licenciatura         272    https://repositorio.up.edu.pe//handle/11354/20   \n",
       "2      Maestría        1637     https://repositorio.up.edu.pe//handle/11354/9   \n",
       "\n",
       "  master_dir  \n",
       "0         UP  \n",
       "1         UP  \n",
       "2         UP  "
      ]
     },
     "execution_count": 3,
     "metadata": {},
     "output_type": "execute_result"
    }
   ],
   "source": [
    "def get_subitems(s_items, master_dir=\"UP\"):\n",
    "\tlinks = []\n",
    "\tnum_thesis = []\n",
    "\tname_links = []\n",
    "\tlink_df = pd.DataFrame()\n",
    "\n",
    "\tfor item in tqdm.tqdm(s_items):\n",
    "\n",
    "\t\tmaster = item.find('h4')\n",
    "\n",
    "\t\tsublinks = url_up + master.find('a')['href']\n",
    "\t\tsubitem = master.find('span').string\n",
    "\n",
    "\t\ttext_without_spaces = re.sub('[\\s\\t]+', '', subitem)\n",
    "\t\tlink_ref = len(text_without_spaces)\n",
    "\n",
    "\t\tif link_ref < 2:\n",
    "\t\t\tcontinue\n",
    "\n",
    "\t\tsub_text = master.getText()\n",
    "\t\tnum_tesis = re.search(r'\\[(\\d+)\\]', sub_text).group(1)\n",
    "\t\tnum_tesis = int(num_tesis)\n",
    "\n",
    "\t\tlinks.append(sublinks)\n",
    "\t\tname_links.append(subitem)\n",
    "\t\tnum_thesis.append(num_tesis)\n",
    "\tlink_df = link_df.assign(\n",
    "\t\tdir_name=name_links, num_thesis=num_thesis, links=links,\n",
    "\t\tmaster_dir = master_dir\n",
    "\t\t)\n",
    "\treturn link_df\n",
    "\n",
    "main_urls_df=get_subitems(items)\n",
    "main_urls_df\n"
   ]
  },
  {
   "attachments": {},
   "cell_type": "markdown",
   "metadata": {},
   "source": [
    "\n",
    "Obtaining all sub-items (folders) to iterate through the metadata of each thesis. Sub-items are filtered to those with less than 21 theses, as they require a different scraping approach compared to those with more than 20 theses.\n"
   ]
  },
  {
   "cell_type": "code",
   "execution_count": null,
   "metadata": {},
   "outputs": [],
   "source": [
    "main_urls = main_urls_df.links.to_numpy()\n",
    "main_rep = main_urls_df.dir_name.to_numpy()\n",
    "sub_cat_df = pd.DataFrame()\n",
    "for i, main_url in tqdm.tqdm(enumerate(main_urls)) :\n",
    "\tbachiller_sub_urls_df = get_subitems(get_html(main_url), main_rep[i]) \n",
    "\n",
    "\tsub_cat_df = pd.concat((sub_cat_df, bachiller_sub_urls_df))\n",
    "# sub_cat_df"
   ]
  },
  {
   "attachments": {},
   "cell_type": "markdown",
   "metadata": {},
   "source": [
    "### Get metadata"
   ]
  },
  {
   "attachments": {},
   "cell_type": "markdown",
   "metadata": {},
   "source": [
    "The `get_thesis_info` function refers to the [code](https://github.com/d2cml-ai/llm4tesis/blob/main/code/scraper.py) to extract the metadata table.\n"
   ]
  },
  {
   "cell_type": "code",
   "execution_count": 5,
   "metadata": {},
   "outputs": [],
   "source": [
    "# less than 20\n",
    "sub_cat_20 = sub_cat_df.query('num_thesis<21')"
   ]
  },
  {
   "cell_type": "code",
   "execution_count": 50,
   "metadata": {},
   "outputs": [],
   "source": [
    "sub_urls = sub_cat_20.links.to_numpy()\n",
    "sub_dir = sub_cat_20.dir_name.to_numpy()\n",
    "master_dir = sub_cat_20.master_dir.to_numpy()"
   ]
  },
  {
   "attachments": {},
   "cell_type": "markdown",
   "metadata": {},
   "source": [
    "This section of the code is responsible for obtaining all the links that reference a PDF within the metadata page, as there are multiple ways to locate them.\n",
    "\n",
    "```python\n",
    "pdf_links = meta_url.find_all('div', class_ = 'file-link')\n",
    "pdf_ = ['none', 'none', 'none', 'none']\n",
    "for i, pdf_link in enumerate(pdf_links):\n",
    "\ttry:\n",
    "\t\tref_a = pdf_link.find('a')\n",
    "\t\ttry:\n",
    "\t\t\tref = ref_a['href']\n",
    "\t\t\tpdf_[i] = (url_up + ref)\n",
    "\t\texcept:\n",
    "\t\t\tpass\n",
    "\texcept:\n",
    "\t\tpass\n",
    "pdf_download = {\n",
    "\t'url_thesis': [url],\n",
    "\t'pdf_view': [pdf_[0]],\n",
    "\t'pdf_view1': [pdf_[1]],\n",
    "\t'pdf_download': [pdf_[2]],\n",
    "\t'pdf_download1': [pdf_[3]],\n",
    "\t'master_dir': [master_dir],\n",
    "\t'sub_dir': [sub_dir]\n",
    "}\n",
    "\n",
    "pdf_df_link = pd.DataFrame(pdf_download)\n",
    "df1 = pd.concat((df, pdf_df_link), axis=1)\n",
    "```"
   ]
  },
  {
   "attachments": {},
   "cell_type": "markdown",
   "metadata": {},
   "source": [
    "- The `get_thesis_metadata` function consolidates all the information into a single dataframe for each sub-item.\n"
   ]
  },
  {
   "cell_type": "code",
   "execution_count": 184,
   "metadata": {},
   "outputs": [],
   "source": [
    "def get_thesis_info(url, master_dir = 'dir', sub_dir = 'sub_dir'):\n",
    "\tresponse=r.get(url, verify=False)\n",
    "\tmeta_url = bs(response.content, 'html.parser')\n",
    "\ttable = str(meta_url.find(\"table\"))\n",
    "\tdf = pd.read_html(str(table))[0][[0, 1]]\n",
    "\tdf = df.groupby(0, as_index=False).agg(\"\\n\".join)\n",
    "\tdf = df.set_index(0).T.reset_index().drop(columns=[\"index\"])\n",
    "\n",
    "\tpdf_links = meta_url.find_all('div', class_ = 'file-link')\n",
    "\tpdf_ = ['none', 'none', 'none', 'none']\n",
    "\tfor i, pdf_link in enumerate(pdf_links):\n",
    "\t\ttry:\n",
    "\t\t\tref_a = pdf_link.find('a')\n",
    "\t\t\ttry:\n",
    "\t\t\t\tref = ref_a['href']\n",
    "\t\t\t\tpdf_[i] = (url_up + ref)\n",
    "\t\t\texcept:\n",
    "\t\t\t\tpass\n",
    "\t\texcept:\n",
    "\t\t\tpass\n",
    "\tpdf_download = {\n",
    "\t\t'url_thesis': [url],\n",
    "\t\t'pdf_view': [pdf_[0]],\n",
    "\t\t'pdf_view1': [pdf_[1]],\n",
    "\t\t'pdf_download': [pdf_[2]],\n",
    "\t\t'pdf_download1': [pdf_[3]],\n",
    "\t\t'master_dir': [master_dir],\n",
    "\t\t'sub_dir': [sub_dir]\n",
    "\t}\n",
    "\n",
    "\tpdf_df_link = pd.DataFrame(pdf_download)\n",
    "\tdf1 = pd.concat((df, pdf_df_link), axis=1)\n",
    "\treturn df1\n",
    "\n",
    "def get_thesis_metadata(sub_url, master_dir, sub_dir):\n",
    "\tthesis_urls=get_html(sub_url, 'h4', 'artifact-title')\n",
    "\tthesis_df_info=pd.DataFrame()\n",
    "\tlink = []\n",
    "\tfor i, thesis in enumerate(thesis_urls):\n",
    "\t\thref_thesis = thesis.find('a')['href']\n",
    "\t\tlink_thesis = url_up + href_thesis + '?show=full'\n",
    "\t\tlink.append(link_thesis)\n",
    "\t\tthesis_df = get_thesis_info(link_thesis, master_dir, sub_dir)\n",
    "\t\tthesis_df_info = pd.concat((thesis_df_info, thesis_df))\n",
    "\treturn thesis_df_info\n",
    "# a, b = get_thesis_url(sub_urls[0])"
   ]
  },
  {
   "cell_type": "code",
   "execution_count": 73,
   "metadata": {},
   "outputs": [
    {
     "name": "stderr",
     "output_type": "stream",
     "text": [
      "10it [00:31,  3.20s/it]\n"
     ]
    }
   ],
   "source": [
    "less_20 = pd.DataFrame()\n",
    "for i, _url in tqdm.tqdm(enumerate(sub_urls)):\n",
    "\tdf = get_thesis_metadata(_url, master_dir[i], sub_dir[i])\n",
    "\tless_20 = pd.concat((less_20, df))\n",
    "less_20.to_csv('less_20.csv', index=False)"
   ]
  },
  {
   "attachments": {},
   "cell_type": "markdown",
   "metadata": {},
   "source": [
    "For sub-items with more than 20 theses, an additional loop is added to iterate through all the theses within a predefined range, typically set at increments of 20 by default."
   ]
  },
  {
   "cell_type": "code",
   "execution_count": 142,
   "metadata": {},
   "outputs": [],
   "source": [
    "# more than 20\n",
    "sub_cat = sub_cat_df.query('num_thesis>=21')\n",
    "sub_urls = sub_cat.links.to_numpy()\n",
    "sub_dir = sub_cat.dir_name.to_numpy()\n",
    "master_dir = sub_cat.master_dir.to_numpy()\n",
    "num_thesis = sub_cat.num_thesis.to_numpy()"
   ]
  },
  {
   "cell_type": "code",
   "execution_count": 198,
   "metadata": {},
   "outputs": [
    {
     "name": "stderr",
     "output_type": "stream",
     "text": [
      "13it [52:07, 240.55s/it]\n"
     ]
    }
   ],
   "source": [
    "all_df = pd.DataFrame()\n",
    "for i, url in tqdm.tqdm(enumerate(sub_urls)) :\n",
    "\tlast_range = int(np.ceil(num_thesis[i] / 20))\n",
    "\tfor page in range(last_range):\n",
    "\t\tpage_url = url + f\"/recent-submissions?offset={page * 20}\"\n",
    "\t\tdf = pd.DataFrame()\n",
    "\t\ttry:\n",
    "\t\t\tdf=get_thesis_metadata(page_url, master_dir[i], sub_dir[i])\n",
    "\t\t\tall_df = pd.concat((all_df, df))\n",
    "\t\texcept:\n",
    "\t\t\tpass\n",
    "\n",
    "# all_df"
   ]
  },
  {
   "cell_type": "code",
   "execution_count": 205,
   "metadata": {},
   "outputs": [],
   "source": [
    "all_df.to_csv(\"more20.csv\")"
   ]
  },
  {
   "attachments": {},
   "cell_type": "markdown",
   "metadata": {},
   "source": [
    "Download pdfs?"
   ]
  },
  {
   "cell_type": "code",
   "execution_count": 13,
   "metadata": {},
   "outputs": [],
   "source": [
    "response = r.get(c)\n",
    "with open(n, 'wb') as file:\n",
    "\tfile.write(response.content)"
   ]
  }
 ],
 "metadata": {
  "kernelspec": {
   "display_name": "Python 3",
   "language": "python",
   "name": "python3"
  },
  "language_info": {
   "codemirror_mode": {
    "name": "ipython",
    "version": 3
   },
   "file_extension": ".py",
   "mimetype": "text/x-python",
   "name": "python",
   "nbconvert_exporter": "python",
   "pygments_lexer": "ipython3",
   "version": "3.8.10"
  },
  "orig_nbformat": 4
 },
 "nbformat": 4,
 "nbformat_minor": 2
}
